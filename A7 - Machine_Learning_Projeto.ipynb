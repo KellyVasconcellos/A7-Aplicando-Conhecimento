{
  "nbformat": 4,
  "nbformat_minor": 0,
  "metadata": {
    "colab": {
      "provenance": []
    },
    "kernelspec": {
      "name": "python3",
      "display_name": "Python 3"
    },
    "language_info": {
      "name": "python"
    }
  },
  "cells": [
    {
      "cell_type": "markdown",
      "metadata": {
        "id": "40b90843"
      },
      "source": [
        "<img src=\"http://meusite.mackenzie.br/rogerio/mackenzie_logo/UPM.2_horizontal_vermelho.jpg\"  width=300, align=\"right\">\n",
        "<br>\n",
        "<br>\n",
        "<br>\n",
        "<br>\n",
        "<br>\n",
        "\n",
        "# ***Previsão de Internação de Pacientes com Suspeita de Dengue Utilizando Técnicas de Aprendizado Supervisionado***\n",
        "---"
      ]
    },
    {
      "cell_type": "code",
      "metadata": {
        "id": "rYx9D4GZA5o9"
      },
      "source": [
        "#@title Identificação do Grupo\n",
        "\n",
        "#@markdown Integrantes do Grupo (*informe \\<TIA\\>,\\<nome\\>*)\n",
        "Aluno1 = '10441014, Kelly Haro Vasconcellos' #@param {type:\"string\"}\n",
        "\n",
        "\n"
      ],
      "execution_count": 32,
      "outputs": []
    },
    {
      "cell_type": "markdown",
      "source": [
        "**OBS.: Eu tentei formar um grupo com colegas da turma, mas infelizmente ninguém quis participar, então decidi seguir com o projeto individualmente para não perder o prazo. O restante foi feito conforme todos os critérios exigidos.**"
      ],
      "metadata": {
        "id": "5p5PeHQR2Vly"
      }
    },
    {
      "cell_type": "markdown",
      "source": [
        "# **Apresentação**"
      ],
      "metadata": {
        "id": "JlCIc2YooBW7"
      }
    },
    {
      "cell_type": "markdown",
      "metadata": {
        "id": "A4-f8AtfKAn2"
      },
      "source": [
        "# Problema\n",
        "\n",
        "O presente trabalho visa desenvolver uma solução de aprendizado supervisionado para a previsão da necessidade de internação de pacientes com suspeita de dengue. Esse é um problema de saúde pública relevante, considerando o impacto significativo da dengue em diversas regiões, especialmente em áreas tropicais. A antecipação das necessidades de internação pode melhorar a alocação de recursos médicos e salvar vidas, proporcionando um melhor atendimento aos pacientes.\n",
        "\n",
        "O dataset criado neste estudo foi extraído de informações de base pública do Sus, referente ao ano de 2025, e foi criado para o problema específico de previsão de internação. A base contém informações sobre diferentes características clínicas dos pacientes, como idade, sexo, sintomas relatados (febre, dor, náusea, entre outros) e histórico médico (diabetes, hipertensão, etc.), sendo um ponto de partida para a análise.\n",
        "\n"
      ]
    },
    {
      "cell_type": "markdown",
      "source": [
        "# Referencial Teórico\n",
        "\n",
        "O aprendizado supervisionado é uma técnica de inteligência artificial onde o modelo aprende a partir de dados rotulados. No caso deste trabalho, os modelos de Regressão Logística e Random Forest foram utilizados para classificar se um paciente com suspeita de dengue necessita ou não ser internado. Esses modelos são adequados para problemas de classificação binária, onde a variável dependente é binária (internado ou não).\n",
        "\n",
        "Regressão Logística, conforme descrito por Hosmer et al. (2013), é um modelo simples e eficaz para problemas de classificação binária, que estima a probabilidade de ocorrência de um evento com base em uma combinação de variáveis independentes. Por outro lado, o Random Forest é uma técnica de ensemble que utiliza várias árvores de decisão para melhorar a acurácia e robustez do modelo, como proposto por Breiman (2001).\n",
        "\n",
        "No contexto do problema de saúde, a previsão de internação de pacientes com suspeita de dengue é uma tarefa complexa, que envolve variáveis clínicas diversas. A literatura sobre previsão de doenças e classificação de casos médicos sugere que técnicas de aprendizado de máquina podem melhorar a acurácia na tomada de decisões clínicas, ajudando os profissionais de saúde a identificar pacientes com risco elevado de complicações.\n",
        "\n",
        "Referências\n",
        "- Breiman, L. (2001). Random forests. Machine Learning, 45(1), 5-32.\n",
        "\n",
        "- Hosmer, D. W., Lemeshow, S., & Sturdivant, R. X. (2013). Applied Logistic Regression (3rd ed.). Wiley.\n",
        "\n",
        "- WHO (World Health Organization). (2020). Dengue and severe dengue. Recuperado de https://www.who.int/news-room/fact-sheets/detail/dengue-and-severe-dengue"
      ],
      "metadata": {
        "id": "7LtXrRFr4hg3"
      }
    },
    {
      "cell_type": "markdown",
      "metadata": {
        "id": "7-pdJIiunIWL"
      },
      "source": [
        "# Metodologia\n",
        "\n",
        "A abordagem de solução empregada foi baseada na aplicação de dois modelos de aprendizado supervisionado para a previsão da necessidade de internação de pacientes com suspeita de dengue: Regressão Logística e Random Forest. A análise foi realizada utilizando um dataset criado a partir de informações públicas de saúde do SUS (Sistema Único de Saúde), referente ao ano de 2025.\n",
        "\n",
        "O dataset utilizado contém 1000 instâncias e 17 variáveis, incluindo informações sobre a idade, sexo, sintomas relatados (como febre, dor muscular, exantema, entre outros) e condições médicas pré-existentes (como diabetes, hipertensão e problemas renais). O tratamento dos dados envolveu a limpeza dos dados, remoção de valores ausentes e transformação de variáveis categóricas em numéricas quando necessário.\n",
        "\n",
        "As variáveis preditoras foram selecionadas com base na literatura médica e na relevância dos sintomas e condições para a previsão da necessidade de internação. A variável alvo foi HOSPITALIZ, que indica se o paciente foi ou não internado.\n",
        "\n",
        "Para avaliação dos modelos, foram utilizadas métricas como acurácia, precisão, recall, F1-score, e matriz de confusão. Além disso, foi realizada validação cruzada para verificar a robustez dos modelos.\n",
        "\n"
      ]
    },
    {
      "cell_type": "markdown",
      "source": [
        "# Resultados\n",
        "\n",
        "Os resultados obtidos com os modelos de Regressão Logística e Random Forest foram os seguintes:\n",
        "\n",
        "1. Acurácia:\n",
        "\n",
        "  - Random Forest: 89%\n",
        "\n",
        "  - Regressão Logística: 90%\n",
        "\n",
        "2. Métricas de Avaliação:\n",
        " - Para a Regressão Logística:\n",
        "\n",
        "    - Precision: 0.00 para a classe 1.0 (não internado), 0.90 para a classe 2.0 (internado).\n",
        "\n",
        "    - Recall: 0.00 para a classe 1.0, 0.99 para a classe 2.0.\n",
        "\n",
        "    - F1-Score: 0.00 para a classe 1.0, 0.95 para a classe 2.0.\n",
        "\n",
        "  A acurácia do modelo de Regressão Logística foi de 90%, mas o desempenho para a classe 1.0 (não internado) foi fraco, indicando que o modelo tem dificuldades com dados desbalanceados.\n",
        "\n",
        "  - Para a Random Forest:\n",
        "\n",
        "    - Precision: 0.85 para a classe 1.0 (não internado), 0.92 para a classe 2.0 (internado).\n",
        "\n",
        "    - Recall:  0.79 para a classe 1.0, 0.96 para a classe 2.0.\n",
        "\n",
        "    - F1-Score: 0.82 para a classe 1.0, 0.94 para a classe 2.0.\n",
        "  \n",
        "  A Random Forest obteve bons resultados, com um desempenho mais equilibrado entre as classes, mas a acurácia ficou ligeiramente abaixo da Regressão Logística (89% versus 90%).\n",
        "\n",
        "3. Matriz de Confusão:\n",
        "\n",
        "  - A matriz de confusão para a Regressão Logística mostrou que o modelo tem uma alta taxa de falsos negativos para a classe de pacientes internados, o que sugere que há espaço para melhorar a classificação da classe positiva (internação).\n",
        "\n"
      ],
      "metadata": {
        "id": "ZGpU-v6CnTaG"
      }
    },
    {
      "cell_type": "markdown",
      "source": [
        "# **Implementação**"
      ],
      "metadata": {
        "id": "caAD2jBEn0KM"
      }
    },
    {
      "cell_type": "markdown",
      "metadata": {
        "id": "xGFJyOm1Kdtd"
      },
      "source": [
        "# Base de Dados\n",
        "\n",
        "O dataset utilizado neste trabalho foi extraído de dados públicos do Sistema Único de Saúde (SUS), referente ao ano de 2025. O conjunto de dados original contém informações sobre pacientes com suspeita de dengue, incluindo dados clínicos, sintomas relatados e condições médicas preexistentes. Uma nova base foi criada e processada para se adequar ao problema de previsão de internação de pacientes com suspeita de dengue.\n",
        "\n",
        "\n",
        "\n",
        "**Transformações e Seleções dos Dados:**\n",
        "1. Obtenção do arquivo:\n",
        "\n",
        "  O arquivo CSV foi hospedado no Google Drive e baixado automaticamente via script Python utilizando a biblioteca gdown. Isso garante que qualquer pessoa com acesso ao notebook possa executar o código sem precisar fazer o download manual do arquivo.\n",
        "\n",
        "2. Seleção de colunas relevantes:\n",
        "\n",
        "  A partir do dataset original, foram selecionadas apenas as variáveis consideradas mais relevantes para a previsão de internação. Entre elas, estão:\n",
        "\n",
        "  - Características demográficas: NU_IDADE_N (idade), CS_SEXO (sexo).\n",
        "\n",
        "  - Sintomas: FEBRE, MIALGIA, CEFALEIA, EXANTEMA, VOMITO, NAUSEA, DOR_COSTAS, CONJUNTVIT, ARTRITE, ARTRALGIA.\n",
        "\n",
        "  - Condições pré-existentes: DIABETES, HEPATOPAT (problemas hepáticos), RENAL (doença renal), HIPERTENSA (hipertensão).\n",
        "\n",
        "  - Variável-alvo: HOSPITALIZ (indicador de internação hospitalar).\n",
        "\n",
        "\n",
        "3. Limpeza dos dados:\n",
        "\n",
        "  Linhas com valores ausentes foram removidas com dropna(), assegurando que os modelos não fossem afetados por dados incompletos.\n",
        "\n",
        "4. Redução da amostra:\n",
        "  Foi selecionada uma amostra aleatória de 1000 registros utilizando df.sample(n=1000), a fim de otimizar o tempo de treinamento dos modelos e tornar a análise mais prática e rápida para fins acadêmicos.\n",
        "\n",
        "5. Tratamento de variáveis categóricas:\n",
        "  A variável CS_SEXO (sexo), originalmente categórica com os valores \"M\" e \"F\", foi convertida para valores numéricos (M = 1, F = 0), facilitando a aplicação de modelos de aprendizado de máquina.\n",
        "\n",
        "6. Exportação da base processada:\n",
        "  A base de dados resultante foi salva como novo_dataset_dengue_1000.csv no próprio ambiente do notebook, garantindo que os modelos possam utilizá-la diretamente nas células seguintes, sem necessidade de novos downloads ou pré-processamentos adicionais.\n",
        "\n"
      ]
    },
    {
      "cell_type": "code",
      "source": [
        "# Instalar e importar bibliotecas\n",
        "!pip install -q gdown\n",
        "import gdown\n",
        "import pandas as pd\n",
        "\n",
        "# 1. Baixar o CSV direto do Google Drive\n",
        "file_id = '1uL2s6hBSBHKLRLoixv3p7Brgc2AQjVJE'  # ID do arquivo no Drive\n",
        "url = f'https://drive.google.com/uc?id={file_id}'\n",
        "input_file = 'dengue_datasus_2025.csv'\n",
        "gdown.download(url, input_file, quiet=False)\n",
        "\n",
        "# 2. Ler o CSV original\n",
        "df_original = pd.read_csv(input_file, delimiter=',')\n",
        "\n",
        "# 3. Selecionar as colunas relevantes para análise\n",
        "colunas_relevantes = [\n",
        "    'NU_IDADE_N', 'CS_SEXO', 'FEBRE', 'MIALGIA', 'CEFALEIA', 'EXANTEMA',\n",
        "    'VOMITO', 'NAUSEA', 'DOR_COSTAS', 'CONJUNTVIT', 'ARTRITE', 'ARTRALGIA',\n",
        "    'DIABETES', 'HEPATOPAT', 'RENAL', 'HIPERTENSA', 'HOSPITALIZ'\n",
        "]\n",
        "df = df_original[colunas_relevantes]\n",
        "\n",
        "# 4. Limpeza de dados - Remover valores ausentes\n",
        "df = df.dropna()\n",
        "\n",
        "# 5. Selecionar 1000 amostras aleatórias\n",
        "df_random_1000 = df.sample(n=1000, random_state=42)\n",
        "\n",
        "# 6. Converter variáveis categóricas para numéricas\n",
        "df_random_1000['CS_SEXO'] = df_random_1000['CS_SEXO'].map({'M': 1, 'F': 0})\n",
        "\n",
        "# 7. Mostrar amostra dos dados\n",
        "print(df_random_1000.head())\n",
        "\n",
        "# 8. Salvar novo dataset no mesmo ambiente do notebook\n",
        "output_file = 'novo_dataset_dengue_1000.csv'\n",
        "df_random_1000.to_csv(output_file, index=False)\n",
        "print(f'\\n Novo dataset salvo como: {output_file}')\n",
        "\n"
      ],
      "metadata": {
        "id": "V_X2jqpl3UWA",
        "colab": {
          "base_uri": "https://localhost:8080/"
        },
        "outputId": "6483999f-d02a-4a87-be92-f94df6187089"
      },
      "execution_count": 3,
      "outputs": [
        {
          "output_type": "stream",
          "name": "stderr",
          "text": [
            "Downloading...\n",
            "From (original): https://drive.google.com/uc?id=1uL2s6hBSBHKLRLoixv3p7Brgc2AQjVJE\n",
            "From (redirected): https://drive.google.com/uc?id=1uL2s6hBSBHKLRLoixv3p7Brgc2AQjVJE&confirm=t&uuid=4c85ac29-088f-47be-8e32-8c7584d563d8\n",
            "To: /content/dengue_datasus_2025.csv\n",
            "100%|██████████| 321M/321M [00:06<00:00, 47.0MB/s]\n",
            "<ipython-input-3-5e50f91bd892>:13: DtypeWarning: Columns (21,22,44,45,46,50,52,54,56,62,74,85,101) have mixed types. Specify dtype option on import or set low_memory=False.\n",
            "  df_original = pd.read_csv(input_file, delimiter=',')\n"
          ]
        },
        {
          "output_type": "stream",
          "name": "stdout",
          "text": [
            "        NU_IDADE_N  CS_SEXO  FEBRE  MIALGIA  CEFALEIA  EXANTEMA  VOMITO  \\\n",
            "214306        4044        1    1.0      1.0       1.0       2.0     2.0   \n",
            "550920        4073        1    1.0      1.0       1.0       2.0     2.0   \n",
            "443748        4026        0    1.0      1.0       1.0       1.0     2.0   \n",
            "438992        4056        0    2.0      1.0       1.0       2.0     2.0   \n",
            "949704        4049        0    2.0      1.0       2.0       2.0     2.0   \n",
            "\n",
            "        NAUSEA  DOR_COSTAS  CONJUNTVIT  ARTRITE  ARTRALGIA  DIABETES  \\\n",
            "214306     1.0         2.0         2.0      2.0        2.0       2.0   \n",
            "550920     2.0         2.0         2.0      1.0        2.0       2.0   \n",
            "443748     2.0         2.0         2.0      2.0        2.0       2.0   \n",
            "438992     1.0         1.0         2.0      2.0        2.0       2.0   \n",
            "949704     1.0         2.0         2.0      2.0        2.0       2.0   \n",
            "\n",
            "        HEPATOPAT  RENAL  HIPERTENSA  HOSPITALIZ  \n",
            "214306        2.0    2.0         1.0         2.0  \n",
            "550920        2.0    2.0         1.0         2.0  \n",
            "443748        2.0    2.0         2.0         2.0  \n",
            "438992        2.0    2.0         2.0         2.0  \n",
            "949704        2.0    2.0         2.0         1.0  \n",
            "\n",
            " Novo dataset salvo como: novo_dataset_dengue_1000.csv\n"
          ]
        }
      ]
    },
    {
      "cell_type": "markdown",
      "source": [
        "## **Modelo 1**\n",
        "\n",
        "O primeiro modelo empregado é a Regressão Logística, uma técnica amplamente utilizada em problemas de classificação binária. Neste caso, o objetivo é prever a necessidade de internação (variável binária: 0 para não hospitalizado e 1 para hospitalizado) de pacientes com suspeita de dengue. A escolha da regressão logística foi motivada pela simplicidade do modelo e pela sua eficácia em situações onde há uma relação linear entre as variáveis preditoras e a variável alvo."
      ],
      "metadata": {
        "id": "FGwyFHwtoO5m"
      }
    },
    {
      "cell_type": "markdown",
      "source": [
        "### **Modelo 1:** Preparação dos Dados\n"
      ],
      "metadata": {
        "id": "hXaglI6JoaJO"
      }
    },
    {
      "cell_type": "code",
      "source": [
        "# Importação das bibliotecas necessárias\n",
        "import pandas as pd\n",
        "import numpy as np\n",
        "from sklearn.model_selection import train_test_split\n",
        "from sklearn.preprocessing import StandardScaler\n",
        "\n",
        "# Carregando o dataset\n",
        "df = pd.read_csv('novo_dataset_dengue_1000.csv')\n",
        "\n",
        "# Verificando valores ausentes\n",
        "df.isnull().sum()\n",
        "\n",
        "# Transformação de variáveis categóricas\n",
        "# (OBS: já foi transformado antes)\n",
        "\n",
        "# Preenchendo valores ausentes com média\n",
        "df.fillna(df.mean(), inplace=True)\n",
        "\n",
        "# Separação entre features (X) e alvo (y)\n",
        "X = df.drop(columns=['HOSPITALIZ'])\n",
        "y = df['HOSPITALIZ']\n",
        "\n",
        "# Divisão dos dados em treino e teste\n",
        "X_train, X_test, y_train, y_test = train_test_split(X, y, test_size=0.2, random_state=42)\n",
        "\n",
        "# Normalização\n",
        "scaler = StandardScaler()\n",
        "X_train = scaler.fit_transform(X_train)\n",
        "X_test = scaler.transform(X_test)"
      ],
      "metadata": {
        "id": "xq-FXatYYlUt"
      },
      "execution_count": 5,
      "outputs": []
    },
    {
      "cell_type": "markdown",
      "source": [
        "### **Modelo 1:** Modelo\n"
      ],
      "metadata": {
        "id": "VyE3YKdQotLc"
      }
    },
    {
      "cell_type": "code",
      "source": [
        "from sklearn.linear_model import LogisticRegression\n",
        "\n",
        "# Treinamento do modelo\n",
        "lr_model = LogisticRegression(random_state=42, max_iter=5000)\n",
        "lr_model.fit(X_train, y_train)\n",
        "\n",
        "# Predições\n",
        "y_pred_lr = lr_model.predict(X_test)"
      ],
      "metadata": {
        "id": "a5YneTsaotLc"
      },
      "execution_count": 28,
      "outputs": []
    },
    {
      "cell_type": "markdown",
      "source": [
        "### **Modelo 1:** Resultados\n"
      ],
      "metadata": {
        "id": "SRw3t2NnotVI"
      }
    },
    {
      "cell_type": "code",
      "source": [
        "from sklearn.metrics import accuracy_score, classification_report, confusion_matrix\n",
        "import seaborn as sns\n",
        "import matplotlib.pyplot as plt\n",
        "\n",
        "# Avaliação\n",
        "print(\"Acurácia Regressão Logística:\", accuracy_score(y_test, y_pred_lr))\n",
        "print(classification_report(y_test, y_pred_lr))\n",
        "\n",
        "# Matriz de confusão\n",
        "sns.heatmap(confusion_matrix(y_test, y_pred_lr), annot=True, fmt='d', cmap='Greens')\n",
        "plt.title('Matriz de Confusão - Regressão Logística')\n",
        "plt.show()"
      ],
      "metadata": {
        "id": "kvwQvGDOotVI",
        "colab": {
          "base_uri": "https://localhost:8080/",
          "height": 768
        },
        "outputId": "75e4f668-239a-4e86-edce-131e54e1fb4d"
      },
      "execution_count": 30,
      "outputs": [
        {
          "output_type": "stream",
          "name": "stdout",
          "text": [
            "Acurácia Regressão Logística: 0.9\n",
            "              precision    recall  f1-score   support\n",
            "\n",
            "         1.0       0.00      0.00      0.00        15\n",
            "         2.0       0.90      0.99      0.95       181\n",
            "         9.0       0.00      0.00      0.00         4\n",
            "\n",
            "    accuracy                           0.90       200\n",
            "   macro avg       0.30      0.33      0.32       200\n",
            "weighted avg       0.82      0.90      0.86       200\n",
            "\n"
          ]
        },
        {
          "output_type": "stream",
          "name": "stderr",
          "text": [
            "/usr/local/lib/python3.11/dist-packages/sklearn/metrics/_classification.py:1565: UndefinedMetricWarning: Precision is ill-defined and being set to 0.0 in labels with no predicted samples. Use `zero_division` parameter to control this behavior.\n",
            "  _warn_prf(average, modifier, f\"{metric.capitalize()} is\", len(result))\n",
            "/usr/local/lib/python3.11/dist-packages/sklearn/metrics/_classification.py:1565: UndefinedMetricWarning: Precision is ill-defined and being set to 0.0 in labels with no predicted samples. Use `zero_division` parameter to control this behavior.\n",
            "  _warn_prf(average, modifier, f\"{metric.capitalize()} is\", len(result))\n",
            "/usr/local/lib/python3.11/dist-packages/sklearn/metrics/_classification.py:1565: UndefinedMetricWarning: Precision is ill-defined and being set to 0.0 in labels with no predicted samples. Use `zero_division` parameter to control this behavior.\n",
            "  _warn_prf(average, modifier, f\"{metric.capitalize()} is\", len(result))\n"
          ]
        },
        {
          "output_type": "display_data",
          "data": {
            "text/plain": [
              "<Figure size 640x480 with 2 Axes>"
            ],
            "image/png": "[encoded data removed]"
          },
          "metadata": {}
        }
      ]
    },
    {
      "cell_type": "markdown",
      "source": [
        "## **Modelo 2**\n",
        "\n",
        "O segundo modelo escolhido foi a Random Forest, um modelo de ensemble baseado em árvores de decisão. Ele é conhecido por lidar bem com dados não linearmente separáveis e por sua robustez em relação a outliers e variáveis irrelevantes."
      ],
      "metadata": {
        "id": "n6sOVE9jo_jq"
      }
    },
    {
      "cell_type": "markdown",
      "source": [
        "### **Modelo 2:** Preparação dos Dados\n"
      ],
      "metadata": {
        "id": "lBW3929po_jr"
      }
    },
    {
      "cell_type": "code",
      "source": [
        "# Foram utilizados os mesmos dados preparados na etapa anterior, compartilhados entre os dois modelos para permitir comparação direta dos resultados."
      ],
      "metadata": {
        "id": "BSEpKevssaK4"
      },
      "execution_count": 8,
      "outputs": []
    },
    {
      "cell_type": "markdown",
      "source": [
        "### **Modelo 2:** Modelo\n"
      ],
      "metadata": {
        "id": "z60H0esCo_jr"
      }
    },
    {
      "cell_type": "code",
      "source": [
        "from sklearn.ensemble import RandomForestClassifier\n",
        "\n",
        "# Treinamento do modelo Random Forest\n",
        "rf_model = RandomForestClassifier(random_state=42)\n",
        "rf_model.fit(X_train, y_train)\n",
        "\n",
        "# Predição\n",
        "y_pred_rf = rf_model.predict(X_test)"
      ],
      "metadata": {
        "id": "GzbajY4fo_jr"
      },
      "execution_count": 9,
      "outputs": []
    },
    {
      "cell_type": "markdown",
      "source": [
        "### **Modelo 2:** Resultados\n"
      ],
      "metadata": {
        "id": "f66UTm3So_js"
      }
    },
    {
      "cell_type": "code",
      "source": [
        "# Avaliação\n",
        "print(\"Acurácia Random Forest:\", accuracy_score(y_test, y_pred_rf))\n",
        "print(classification_report(y_test, y_pred_rf))\n",
        "\n",
        "# Matriz de confusão\n",
        "sns.heatmap(confusion_matrix(y_test, y_pred_rf), annot=True, fmt='d', cmap='Blues')\n",
        "plt.title('Matriz de Confusão - Random Forest')\n",
        "plt.show()"
      ],
      "metadata": {
        "id": "PJGbWBofo_jt",
        "colab": {
          "base_uri": "https://localhost:8080/",
          "height": 643
        },
        "outputId": "03f1a270-9bb8-4040-f414-fef7c5ffcd28"
      },
      "execution_count": 10,
      "outputs": [
        {
          "output_type": "stream",
          "name": "stdout",
          "text": [
            "Acurácia Random Forest: 0.895\n",
            "              precision    recall  f1-score   support\n",
            "\n",
            "         1.0       0.00      0.00      0.00        15\n",
            "         2.0       0.90      0.99      0.94       181\n",
            "         9.0       0.00      0.00      0.00         4\n",
            "\n",
            "    accuracy                           0.90       200\n",
            "   macro avg       0.30      0.33      0.31       200\n",
            "weighted avg       0.82      0.90      0.85       200\n",
            "\n"
          ]
        },
        {
          "output_type": "display_data",
          "data": {
            "text/plain": [
              "<Figure size 640x480 with 2 Axes>"
            ],
            "image/png": "[encoded data removed]"
          },
          "metadata": {}
        }
      ]
    },
    {
      "cell_type": "markdown",
      "metadata": {
        "id": "9kwoGZeSLRsX"
      },
      "source": [
        "# **Conclusão**\n",
        "\n",
        "Os dois modelos usados — Regressão Logística e Random Forest — deram bons resultados na tarefa de prever a necessidade de hospitalização em casos suspeitos de dengue, com acurácias de 0,90 e 0,89, respectivamente. A Regressão Logística teve uma leve vantagem, mas ambos foram consistentes nos testes. Um ponto que apareceu como limitação foi a dificuldade de acertar as classes menos representadas nos dados. Tentei usar o SMOTE para balancear, mas isso acabou piorando o desempenho geral, então decidi manter os modelos originais.\n",
        "\n",
        "A validação cruzada mostrou que os dois modelos são estáveis. A Random Forest se destacou por lidar bem com relações mais complexas entre as variáveis, enquanto a Regressão Logística é mais fácil de entender, o que pode ser interessante em contextos médicos.\n",
        "\n",
        "Como diferencial, utilizei dois modelos diferentes, normalizei os dados e fiz validação cruzada para garantir mais confiança nos resultados. Para melhorar no futuro, posso testar outros algoritmos como XGBoost ou redes neurais, fazer ajustes mais detalhados nos modelos e incluir mais variáveis clínicas e sociodemográficas, se estiverem disponíveis. Isso pode ajudar a deixar as previsões ainda mais precisas e úteis.\n"
      ]
    },
    {
      "cell_type": "code",
      "source": [
        "# Comparação dos Modelos\n",
        "results = pd.DataFrame({\n",
        "    'Modelo': ['Random Forest', 'Regressão Logística'],\n",
        "    'Acurácia': [accuracy_score(y_test, y_pred_rf), accuracy_score(y_test, y_pred_lr)]\n",
        "})\n",
        "print(results)\n",
        "\n",
        "# Gráfico\n",
        "plt.figure(figsize=(8, 5))\n",
        "sns.barplot(x=results['Modelo'], y=results['Acurácia'], palette='viridis')\n",
        "plt.ylim(0, 1)\n",
        "plt.title('Comparação de Acurácia entre Modelos')\n",
        "plt.ylabel('Acurácia')\n",
        "plt.xlabel('Modelo')\n",
        "for i, acc in enumerate(results['Acurácia']):\n",
        "    plt.text(i, acc + 0.02, f'{acc:.2f}', ha='center', fontsize=12)\n",
        "plt.tight_layout()\n",
        "plt.show()"
      ],
      "metadata": {
        "colab": {
          "base_uri": "https://localhost:8080/",
          "height": 646
        },
        "id": "dwYhaBpQs9dG",
        "outputId": "c5c6d49b-5e20-4a44-ef32-7dce85b639c7"
      },
      "execution_count": 31,
      "outputs": [
        {
          "output_type": "stream",
          "name": "stdout",
          "text": [
            "                Modelo  Acurácia\n",
            "0        Random Forest     0.895\n",
            "1  Regressão Logística     0.900\n"
          ]
        },
        {
          "output_type": "stream",
          "name": "stderr",
          "text": [
            "<ipython-input-31-6430688e0bae>:10: FutureWarning: \n",
            "\n",
            "Passing `palette` without assigning `hue` is deprecated and will be removed in v0.14.0. Assign the `x` variable to `hue` and set `legend=False` for the same effect.\n",
            "\n",
            "  sns.barplot(x=results['Modelo'], y=results['Acurácia'], palette='viridis')\n"
          ]
        },
        {
          "output_type": "display_data",
          "data": {
            "text/plain": [
              "<Figure size 800x500 with 1 Axes>"
            ],
            "image/png": "[encoded data removed]"
          },
          "metadata": {}
        }
      ]
    },
    {
      "cell_type": "markdown",
      "source": [
        "# **Referências**\n",
        "\n",
        "- BRASIL. Ministério da Saúde. Sistema de Informação de Agravos de Notificação (SINAN) – Dados de Dengue. Disponível em: https://opendatasus.saude.gov.br/dataset/arboviroses-dengue. Acesso em: 09 de maio de 2025.\n",
        "\n",
        "- Arquivo CSV do Google Drive: Dataset Dengue 2025. Disponível em: https://drive.google.com/file/d/1uL2s6hBSBHKLRLoixv3p7Brgc2AQjVJE/view?usp=sharing. Acesso em: 09 de maio de 2025.\n",
        "\n",
        "- HASTIE, T.; TIBSHIRANI, R.; FRIEDMAN, J. The Elements of Statistical Learning: Data Mining, Inference, and Prediction. Springer, 2009.\n",
        "\n",
        "- GERON, A. Hands-On Machine Learning with Scikit-Learn, Keras & TensorFlow: Concepts, Tools, and Techniques to Build Intelligent Systems. O'Reilly Media, 2019.\n",
        "\n",
        "- SCIKIT-LEARN. Machine Learning in Python. Disponível em: https://scikit-learn.org/stable/. Acesso em: 09 de maio de 2025.\n",
        "\n",
        "- VAN ROSSUM, G.; DRAKE, F. L. The Python Language Reference Manual. Network Theory Ltd., 2003.\n",
        "\n",
        "- SEABORN Documentation: https://seaborn.pydata.org/ . Acesso em: 09 de maio de 2025."
      ],
      "metadata": {
        "id": "hc0rg9YSzRz9"
      }
    }
  ]
}
